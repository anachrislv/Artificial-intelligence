{
 "cells": [
  {
   "cell_type": "markdown",
   "metadata": {
    "id": "CCcGFAb8nULW"
   },
   "source": [
    "# Τεχνητή Νοημοσύνη: Ενότητα 1\n",
    "\n",
    "    \n",
    "\n",
    "---\n",
    "\n",
    "\n",
    "\n",
    "Ο στόχος της εργασίας είναι η εφαρμογή αλγορίθμων αναζήτησης και εύρεσης καλύτερου μονοπατιού σε λαβύρινθο διαστάσεων $N\\times N$\n"
   ]
  },
  {
   "cell_type": "markdown",
   "metadata": {
    "id": "PPcLy1P7naLP"
   },
   "source": [
    "# Εκφώνηση\n",
    "\n",
    "## Μέρος 1\n",
    "Ο στόχος του πρώτου μέρους είναι η κατασκευή **λαβυρίνθων**. [Σε αυτό το άρθρο της Wikipedia](https://en.wikipedia.org/wiki/Maze_generation_algorithm) μπορείτε να βρείτε διάφορους αλγορίθμους για αυτό το σκοπό, συμπεριλαμβανομένου κι αυτού που χρησιμοποιείται παρακάτω. Προσέξτε ότι οι αλγόριθμοι του παραπάνω άρθρου κατασκευάζουν ένα μόνο μονοπάτι από κάθε σημείο του λαβυρίνθου προς οποιοδήποτε άλλο (η δομή του λαβυρίνθου έχει μορφή συνεκτικού δέντρου). Καλείστε να συμπληρώσετε τον κώδικα στα σημεία που λείπει ώστε οι λαβύρινθοι που κατασκευάζει τυχαία να έχουν μεταβλητή πυκνότητα εμποδίων/τοίχων (καθορίζεται από την παράμετρο threshold). Όλοι οι χάρτες θα πρέπει να έχουν τουλάχιστον ένα μονοπάτι μεταξύ ενός σημείου αφετηρίας (S) και ενός σημείου τερματισμού (F).\n",
    "\n",
    "Σε όλα τα ερωτήματα φροντίστε να χρησιμοποιήσετε **δομημένο** κώδικα, με **σχόλια** που επισημαίνουν τη λογική του.\n",
    "\n",
    "\n",
    "### Παραδείγματα λαβυρίνθων\n",
    "![index1.png](data:image/png;base64,iVBORw0KGgoAAAANSUhEUgAAAOsAAADrCAYAAACICmHVAAAABHNCSVQICAgIfAhkiAAAAAlwSFlzAAALEgAACxIB0t1+/AAAADh0RVh0U29mdHdhcmUAbWF0cGxvdGxpYiB2ZXJzaW9uMy4yLjIsIGh0dHA6Ly9tYXRwbG90bGliLm9yZy+WH4yJAAADhUlEQVR4nO3dwW0UMQCGURvRB0VsBXRBi+mCCuiBOz0MlxyDYJF3x9/se8ckGo3W+uRIkf7M4zgGsL9PZ78A8G/EChFihQixQoRYIUKsEPH5nh+ec/o7DzzYcRzzo6+7WSFCrBAhVogQK0SIFSLEChFihQixQoRYIUKsECFWiBArRIgVIsQKEWKFCLFChFghQqwQcdesy2o7/zeA29vXpc/78e370uft/Nm9mjk/XGFZzs0KEWKFCLFChFghQqwQIVaIECtEiBUixAoRYoUIsUKEWCFCrBAhVogQK0SIFSLEChFihQixQsSpG0yrPWsL54pe6bOr7le5WSFCrBAhVogQK0SIFSLEChFihQixQoRYIUKsECFWiBArRIgVIsQKEWKFCLFChFghQqwQcalZl53nOl5pNmWMvc+iys0KEWKFCLFChFghQqwQIVaIECtEiBUixAoRYoUIsUKEWCFCrBAhVogQK0SIFSLEChFihQixQsSlNphW7hzZENqLs3WzQoZYIUKsECFWiBArRIgVIsQKEWKFCLFChFghQqwQIVaIECtEiBUixAoRYoUIsUKEWCFCrBBxqQ2mnbd1dn63Ap+fmxUyxAoRYoUIsUKEWCFCrBAhVogQK0SIFSLEChFihQixQoRYIUKsECFWiBArRIgVIsQKEWKFiEttMM05z34FHmTl2Vb3nNysECFWiBArRIgVIsQKEWKFCLFChFghQqwQIVaIECtEiBUixAoRYoUIsUKEWCFCrBAhVogQK0RcaoOpuq3D360827fbbdmznsnNChFihQixQoRYIUKsECFWiBArRIgVIsQKEWKFCLFChFghQqwQIVaIECtEiBUixAoRYoUIsULEpTaY5pxnvwLvVu9hOVs3K2SIFSLEChFihQixQoRYIUKsECFWiBArRIgVIsQKEWKFCLFChFghQqwQIVaIECtEiBUiLjXrsnpKhH3sfLbPmpxxs0KEWCFCrBAhVogQK0SIFSLEChFihQixQoRYIUKsECFWiBArRIgVIsQKEWKFCLFChFghQqwQceoG07O2a+AK3KwQIVaIECtEiBUixAoRYoUIsUKEWCFCrBAhVogQK0SIFSLEChFihQixQoRYIUKsECFWiBArRNy7wfRrjPHzES8CjDHG+PKnb8zjOJ75IsB/8mswRIgVIsQKEWKFCLFChFghQqwQIVaIECtE/AZROUHZqFYHAAAAAABJRU5ErkJggg==)\n",
    "![index2.png](data:image/png;base64,iVBORw0KGgoAAAANSUhEUgAAAOsAAADrCAYAAACICmHVAAAABHNCSVQICAgIfAhkiAAAAAlwSFlzAAALEgAACxIB0t1+/AAAADh0RVh0U29mdHdhcmUAbWF0cGxvdGxpYiB2ZXJzaW9uMy4yLjIsIGh0dHA6Ly9tYXRwbG90bGliLm9yZy+WH4yJAAAEvklEQVR4nO3d0W0bRxRA0WWQPlKEKkgXadFduAL3kP/0wPwKiBQu7eHwXeqcz9iIhyNfjIE3u7xcr9cDmO+3Zy8AOEesECFWiBArRIgVIsQKEb/f85svl4s5DzzY9Xq9fPTfnawQIVaIECtEiBUixAoRYoUIsULEXXPWMzxyB5+7XD4coZ7iZIUIsUKEWCFCrBAhVogQK0SIFSKWz1lvOTNnOjOr/ZV51Ve2am9v/X++6s/nkfcMnKwQIVaIECtEiBUixAoRYoUIsUKEWCFi+6WInVYMqN++/Xnz9/z46/vD13FW6TLCrgsaqzx7b52sECFWiBArRIgVIsQKEWKFCLFChFghYuSliF3D52cPud+bNPx/Na+yt05WiBArRIgVIsQKEWKFCLFChFghQqwQsf1SRGH4/N6ur/JYtS9T9nfKOl6JkxUixAoRYoUIsUKEWCFCrBAhVohYPmed9ED3FKv2ZNfM9ww/5/2crBAhVogQK0SIFSLEChFihQixQoRYIWL5pQgPHf/XpD2ZtBbu42SFCLFChFghQqwQIVaIECtEiBUixAoR29/Iv/MNA7cuAEx624G1cIuTFSLEChFihQixQoRYIUKsECFWiMh+8/muWeCkh7Wt5ee8ytzYyQoRYoUIsUKEWCFCrBAhVogQK0SIFSKWX4pYMYAuDdyPY9bQfcpazqzjzM95yueZwMkKEWKFCLFChFghQqwQIVaIECtEiBUill+KqF1o2GHSnkxayxkr1rvqYsWz987JChFihQixQoRYIUKsECFWiBArRIgVIrZ/fcaqNwiUTBrKT3rzwivuyyP/7jpZIUKsECFWiBArRIgVIsQKEWKFiO1z1kl2zXMnzY0nrWWSwr44WSFCrBAhVogQK0SIFSLEChFihQixQsSXvhTxig9irzBpLZM8e1+crBAhVogQK0SIFSLEChFihQixQoRYIWL7pYhJT+RPWssZpTdbfMVvXjiO25/pVy5WOFkhQqwQIVaIECtEiBUixAoRYoUIsULE9ksRz37a/r1Ja1ll12fadaFhxeWKV7mg4WSFCLFChFghQqwQIVaIECtEiBUiRr6Rv/SQ9SqvNh9dZcV6a5/5M05WiBArRIgVIsQKEWKFCLFChFghQqwQMfJSxBmTLhHcWsuqofyuzzzpofxJa3k2JytEiBUixAoRYoUIsUKEWCFCrBAhVojYfili51P7j/zK+NUmXZyovVmhtt6f5WSFCLFChFghQqwQIVaIECtEiBUivvQ3n++y6jOvmCfuWsvObxuf9HfqkTNfJytEiBUixAoRYoUIsUKEWCFCrBAhVogY+Ub+XQ8Tr/pzSpcVanbtbWHfnKwQIVaIECtEiBUixAoRYoUIsUKEWCFi5KWISW8z2LGOsya9EWGF2kWQZ1+ucLJChFghQqwQIVaIECtEiBUixAoRYoWI7ZciJj2RP+mywqR9qfn29va/v/4qe+tkhQixQoRYIUKsECFWiBArRIgVIi73zKAul8trDKxgsOv1+uHg3skKEWKFCLFChFghQqwQIVaIECtEiBUi7n34/J/jOP5+xEKA4ziO44/PfuGuG0zA8/hnMESIFSLEChFihQixQoRYIUKsECFWiBArRPwLUNQF44aEdWwAAAAASUVORK5CYII=)\n",
    "![index3.png](data:image/png;base64,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)"
   ]
  },
  {
   "cell_type": "markdown",
   "metadata": {
    "id": "hrKnkVsr61N-"
   },
   "source": [
    "## Μέρος 2\n",
    "\n",
    "Στο δεύτερο μέρος της εργασίας καλείστε να υλοποιήσετε διάφορους αλγορίθμους εύρεσης συντομότερων μονοπατιών μεταξύ δυο κόμβων για τους λαβυρίνθους που παράγονται από τον κώδικα του πρώτου μέρους. Παράλληλα καλείστε να κατασκευάσετε και διάφορες συναρτήσεις κόστους τόσο για την μέτρηση των πραγματικών αποστάσεων όσο και για την εκτίμηση των αποστάσεων από έναν κόμβο στον κόμβο στόχο (heuristic). Επίσης μπορείτε να πειραματιστείτε με οποιαδήποτε από τις παραμέτρους κάθε αλγορίθμου με σκοπό να μελετήσετε το πώς οι αλλαγές αυτές επηρεάζουν την πολυπλοκότητα, τον χρόνο καθώς και βέλτιστο μονοπάτι. Οι παραπάνω αλγόριθμοι καθώς και οι παραλλαγές τους θα τρέξουν σε λαβυρίνθους με διαφορετικά μεγέθη. Υλοποιήστε τους αλγορίθμους στο κελί κώδικα του Μέρους 2.<br>\n",
    "\n",
    "Η γενική μορφή της συνάρτησης κόστους στον αλγόριθμο Α* είναι:\n",
    "$$f(n)=g(n)+h(n)$$\n",
    "Παραπάνω, η συνάρτηση $g(n)$ δίνει την πραγματική απόσταση από το σημείο εκκίνησης μέχρι τον κόμβο $n$, και η συνάρτηση $h(n)$ αποτελεί μια ευριστική της απόστασης από τον κόμβο $n$ μέχρι τον στόχο. Σας ζητείται να πειραματιστείτε με τις εξής επιλογές για τις δύο συναρτήσεις:\n",
    "* $g(n)=0$ και $h(n)=\\{\\text{manhattan}(n),\\text{euclidean}(n)\\}$. Ποιος αλγόριθμος αναζήτησης προκύπτει; Μπορεί να βρει πάντα το βέλτιστο μονοπάτι;\n",
    "* $g(n)=1$ και $h(n)=0$. Ποιος αλγόριθμος αναζήτησης προκύπτει; Μπορεί να βρει πάντα το βέλτιστο μονοπάτι;\n",
    "* $g(n)=1$ και $h(n)=\\{\\text{manhattan}(n),\\text{euclidean}(n)\\}$. Ποιος αλγόριθμος αναζήτησης προκύπτει; Μπορεί να βρει πάντα το βέλτιστο μονοπάτι;\n",
    "\n",
    "Μπορείτε να προτείνετε και άλλες ευριστικές συναρτήσεις εκτός από τις αποστάσεις manhattan και euclidean;"
   ]
  },
  {
   "cell_type": "markdown",
   "metadata": {
    "id": "HBVzpYPF9WC_"
   },
   "source": [
    "## Μέρος 3\n",
    "\n",
    "Στο τρίτο μέρος καλείστε να υλοποιήσετε μια συγκριτική μελέτη των αλγορίθμων που κατασκευάσατε στο Μέρος 2 με σκοπό να καταλήξετε σε ορισμένα συμπεράσματα. Οι αλγόριθμοι θα συγκρίνονται με βάση την πολυπλοκότητά τους και το κατά πόσο μπορούν να βρούν το βέλτιστο μονοπάτι.\n",
    "\n",
    "Για να κρίνουμε τον τρόπο με τον οποίο το μέγεθος του λαβύρινθου επηρεάζει τους αλγορίθμους, κατασκευάζουμε χάρτες με διάσταση $N=[10,20,\\ldots,100]$. Για κάθε παραμετροποίηση προτείνεται να κατασκευάζετε 100 διαφορετικούς χάρτες, στους οποίους θα εκτελείτε τους παραπάνω αλγορίθμους.\n",
    "\n",
    "Έπειτα, ζητείται να συλλέξετε τα εξής χαρακτηριστικά:\n",
    " * το μήκος του ελάχιστου μονοπατιού που εξάγει ο εκάστοτε αλγόριθμος.\n",
    " * το πλήθος των επεκτεταμένων κόμβων (expanded nodes) του κάθε αλγορίθμου, που αποτελεί μέτρο της πολυπλοκότητάς του.\n",
    "\n",
    " Για να σας είναι εύκολο να εξάγετε συμπεράσματα από τις παραπάνω παραμετροποιήσεις, ζητείται να κατασκευάσετε δύο γραφικές παραστάσεις:\n",
    " * το μήκος του ελάχιστου μονοπατιού συναρτήσει του μεγέθους του χάρτη\n",
    " * το πλήθος των expanded nodes συναρτήσει του μεγέθους του χάρτη\n",
    "\n",
    "\n",
    "\n",
    " Σας ζητείται σχολιάσετε τις παραπάνω γραφικές παραστάσεις, και συγκεκριμένα το πώς μεταβάλλεται η συμπεριφορά των αλγορίθμων συναρτήσει του $N$.\n",
    "\n",
    " Σημειώνουμε τα παρακάτω:\n",
    "\n",
    " * Σε όλα τα παραπάνω πειράματα μπορείτε να λάβετε σαν σημείο εκκίνησης το $(1,1)$ και σαν σημείο τερματισμού το $(N-2,N-2)$. Εναλλακτικά, μπορείτε να πειραματισθείτε με τυχαία σημεία εκκινησης και τερματισμού.\n",
    " * Αν και οι χάρτες παράγονται τυχαία, η εκτέλεση αλγορίθμων σε διαφορετικούς χάρτες παράγει μη συγκρίσιμα αποτελέσματα.\n",
    " * Για λόγους ευκολίας σύγκρισης, προτείνεται να τοποθετήσετε πολλαπλές γραφικές παραστάσεις στο ίδιο σύστημα αξόνων, όπου αυτό είναι εφικτό.\n",
    "\n",
    "**Visualization**: Παράλληλα με τα παραπάνω σάς δίνεται έτοιμη και μια κλάση η όποια κατασκευάζει ένα animation της αναζήτησης το οποίο υλοποιεί κάθε αλγόριθμος. Για την χρήση της κλάσης αυτής πρέπει να κάνετε τα εξής 4 βήματα:\n",
    "\n",
    "1.\tΔημιουργία ενός instance της κλάσης εκτελώντας την παρακάτω εντολή: `visualization(Start, Goal)`. Η εντολή αυτή δημιουργεί ένα αντικείμενο τύπου visualization.\n",
    "2.\tΤο βίντεο που παράγεται κάθε φορά ουσιαστικά αποτελείται από stacked frames. Συνεπώς σε κάθε βήμα εκτέλεσης όπου δηλαδή θέλουμε να προσθέσουμε ένα frame στο βίντεο πρέπει να καλέσουμε την μέθοδο της κλάσης: `draw_step(grid, frontier, expanded_nodes)` όπου το πρώτο όρισμα είναι ένας χάρτης (τύπου Maze) το δεύτερο μια λίστα με το μέτωπο της αναζήτηση ενώ το τρίτο μια λίστα με τους κόμβους οι όποιοι έχουν ήδη επεκταθεί από τον αλγόριθμο.\n",
    "3.\t(Προαιρετικό) Αν θέλουμε να προσθέσουμε στο animation και το βέλτιστο μονοπάτι που βρήκε ο αλγόριθμός μας μπορούμε να καλέσουμε την μέθοδο add_path(path) η οποία δέχεται σαν όρισμα μια λίστα με όλους τους κόμβους που ανήκουν στο βέλτιστο μονοπάτι (συμπεριλαμβανομένων και των κόμβων αρχής και τέλους).\n",
    "4.\tΤέλος καλούμε την συνάρτηση `show_gif()` η όποια εμφανίζει το animation. Επίσης μπορούμε και να αποθηκεύσουμε το gif καλώντας την συνάρτηση `save_gif (filename)` (το αρχείο πρέπει να έχει κατάληξη .gif) καθώς επίσης μπορούμε να εμφανίσουμε μόνο το τελευταίο frame καλώντας την συνάρτηση `show_last_frame()` στο όποιο (αν έχουν γίνει όλα όπως παραπάνω) θα φαίνονται όλοι οι κόμβοι οι οποίοι έχουν επεκταθεί από τον αλγόριθμο, το τελευταίο μέτωπο και (προαιρετικά) και το βέλτιστο μονοπάτι.\n",
    "\n",
    "Μπορείτε να καταλήξετε στα ίδια συμπεράσματα όσον αφορά την πολυπλοκότητα των αλγορίθμων παρατηρώντας το visualization;\n"
   ]
  },
  {
   "cell_type": "markdown",
   "metadata": {
    "id": "8QaZkm0nPnR6"
   },
   "source": [
    "## Μέρος 4\n",
    "\n",
    "Στο τέταρτο μέρος της εργασίας στο λαβύρινθο υπάρχει ένα φάντασμα 👻! Ο στόχος είναι να φτάσουμε στο σημείο τερματισμού αποφεύγοντας το φάντασμα, το οποίο μας κυνηγάει τρέχοντας σε κάθε βήμα τον δικό του Α*. Ο κώδικας που τρέχει το φάντασμα ''Agent'' σας δίνεται έτοιμος.\n",
    "\n",
    "Για την αποφυγή του φαντάσματος θα υλοποιήσουμε τον αλγόριθμο ΑΒ. Συγκεκριμένα, σας δίνεται η κλάση ''ΑΒagent'' στην οποία καλείστε να συμπληρώσετε τις κινήσεις του minimizing_player (όπως διδαχθήκατε στο μάθημα), δεδομένων των αντίστοιχων κινήσεων του maximizing_player. Στα πλαίσια του αλγορίθμου αυτού θα χρειαστεί να ορίσετε μια ευριστική συνάρτηση η οποία εκτιμά το κόστος της επόμενης κατάστασης συνυπολογίζοντας την απόσταση τόσο από το στόχο και από το φάντασμα.\n",
    "\n",
    "Περιγράψτε στο κατάλληλο markdown κελί τη συλλογιστική πορεία για τις επιλογές σας όσον αφορά την ευριστική. Πώς υπολογίσατε τις αποστάσεις (με εκτίμηση/πραγματική μετρική); Αναφέρετε αναλυτικά τα αποτέλεσματα και τις παρατηρήσεις σας σχετικά με τις παραπάνω επιλογές. Μεγαλύτερη σημασία έχει ο πειραματισμός και η αναφορά των αποτελεσμάτων, όσον αφορά αφορά την ευριστική, παρά η αναζήτηση της καλύτερης συνάρτησης. Ως αποτελέσματα ζητείται να παραθέσετε: χαρακτηριστικά gifs και χρόνους εκτέλεσης. Δικαιολογείστε γιατί ο αλγόριθμός σας δουλεύει ορθά.\n",
    "\n",
    "**ΠΡΟΣΟΧΗ!** Στο 4ο μέρος οι λαβύρινθοι που θα χρησιμοποιήσετε πρέπει να είναι αραιοί ως προς τα εμπόδια. Αν τα υπάρχοντα μονοπάτια προς το στόχο είναι λίγα, θα είναι δύσκολο να ξεφύγετε από το φάντασμα ανεξαρτήτως υλοποίησης."
   ]
  },
  {
   "cell_type": "markdown",
   "metadata": {
    "id": "nqTnPBPM_RrH"
   },
   "source": [
    "## Μέρος 5 (bonus)\n",
    "\n",
    "Στο πέμπτο και τελευταίο μέρος της εργασίας σάς δίνεται η δυνατότητα να κατασκευάσετε λαβυρίνθους με το χέρι, ζωγραφίζοντας. Για το σκοπό αυτό σας δίνεται η συνάρτηση draw(filename='filename.png') η οποία παράγει ένα interactive grid ώστε να σχηματίσετε το λαβύρινθο. Θεωρήστε ως μαύρο το χρώμα του εμποδίου, πράσινο την αφετηρία και κόκκινο το στόχο, και πατήστε finish για να ολοκληρωθεί η εκτέλεση του τρέχοντος κελιού. Σε περίπτωση που θέλετε να παράξετε νέο λαβύρινθο, απλά ξανατρέξτε το κελί, επιλέξτε τα τετράγωνα και πατήστε finish. Κάθε εκτέλεση αποθηκεύει την εικόνα σε μορφή png σε όνομα που μπορείτε να καθορίσετε μέσω του filename (τοποθετώντας και την κατάληξη .png) κατά την κλήση της συνάρτησης.  \n",
    "\n",
    "Καλείστε λοιπόν να **κατασκευάσετε** και να **σχολιάσετε** τους παρακάτω 5 λαβυρίνθους, οι οποίοι θα ικανοποιούν τις παρακάτω συνθήκες:\n",
    "\n",
    "\n",
    "*   **Λαβύρινθος 1**: Ο Hill-climbing δεν βρίσκει μονοπάτι από την αφετηρία στο στόχο.\n",
    "*   **Λαβύρινθος 2**: Ο Α* αργεί όσο το δυνατόν περισσότερο να βρει το βέλτιστο μονοπάτι ανεξαρτήτως της μετρικής απόστασης που χρησιμοποιείται ως ευριστική. Σε τι είδους μονοπάτι η επιλογή διαφορετικής μετρικής απόστασης (Ευκλίδεια/Manhattan) ως ευριστικής οδηγεί τον Α* να βρίσκει το μονοπάτι πιο γρήγορα;\n",
    "*   **Λαβύρινθος 3**: Ο αλγόριθμος άπληστης αναζήτησης πρώτα στο καλύτερο (greedy best first) αργεί σημαντικά περισσότερο από τον Α* για να καταλήξει στο στόχο. Σε ποια περίπτωση οι δύο αλγόριθμοι θα συμπεριφέρονταν με τον ίδιο τρόπο;\n",
    "*   **Λαβύρινθος 4**: Ο Α* καταφέρνει να βρει το μονοπάτι προς το στόχο σημαντικά πιο γρήγορα από τον Dijkstra. Ο χώρος πρέπει αναγκαστικά να περιέχει εμπόδια. Πώς επηρεάζει το μέγεθος/είδος του εμποδίου τον αριθμό βημάτων που χρειάζεται ο Dijsktra και πώς τον αριθμό βημάτων του Α*;\n",
    "*   **Λαβύρινθος 5**: Ο Α* και ο Dijkstra φτάνουν στο στόχο πραγματοποιώντας τον ίδιο ακριβώς αριθμό βημάτων για την προσέγγιση της βέλτιστης διαδρομής. Σημείωση: **αγνοήστε** την τετριμμένη περίπτωση όπου ο Α* συμπεριφέρεται όπως ο Dijkstra (h(n)=0).\n",
    "\n",
    "\n",
    "Ο Α* σε όλες τις περιπτώσεις πραγματοποιεί τη βέλτιστη δυνατή αναζήτηση.   \n",
    "\n",
    "\n",
    "Για κάθε λαβύρινθο που σχηματίζετε, δώστε μια σύντομη εξήγηση για την επιλογή σας.  \n",
    "\n",
    "**ΠΡΟΣΟΧΗ:** το output των κελιών που σχηματίζετε διατηρείται για περιορισμένο χρονικό διάστημα στο notebook, γι αυτό καλείστε να αποθηκεύσετε τη φωτογραφία (το πραγματοποιεί η συνάρτηση draw()) και να τη μεταφέρετε στο ανάλογο markdown ώστε να μπορέσουμε να την αξιολογήσουμε.\n",
    "\n",
    "\n",
    "Στη συνέχεια, καλείστε να τρέξετε τους αλγορίθμους pathfinding πάνω στους χάρτες που σχηματίσατε. Για το σκοπό αυτό, μετά την εκτέλεση της draw() καλείτε τη συνάρτηση draw_grid() που μετατρέπει την εικόνα που σχηματίσατε σε χάρτη πάνω στον οποίο μπορούν να τρέξουν οι αλγόριθμοι με χρήση της συνάρτησης pathfinder(). Χρειάζεται να επιλέξετε κατάλληλα τα ορίσματα της pathfinder ώστε να καλέσετε το σωστό αλγόριθμο αναζήτησης σε κάθε ερώτημα. Εκτελέστε τα αντίστοιχα κελιά με τον κώδικα που σας δίνεται και παρουσιάστε την έξοδο αυτών. Φυσικά, εάν ένα ερώτημα περιλαμβάνει την εκτέλεση περισσότερων του ενός αλγορίθμου, αντιγράφετε τα αντίστοιχα κελιά για κάθε αλγόριθμο και τοποθετείτε τα σωστά ορίσματα. Τέλος, η show_gif() σάς παρουσιάζει το animation, όπως και στο Μέρος 3.\n",
    "**Παρατήρηση:** εφόσον δε σας δίνεται/δεν έχετε υλοποιήσει τον Hill climbing, δε σας ζητείται να τον τρέξετε στο χάρτη που θα σχηματίσετε."
   ]
  },
  {
   "cell_type": "markdown",
   "metadata": {
    "id": "k4B8EEBhClt2"
   },
   "source": [
    "## Κώδικας visualization\n"
   ]
  },
  {
   "cell_type": "code",
   "execution_count": 163,
   "metadata": {
    "id": "fH9jHuU-Chps"
   },
   "outputs": [],
   "source": [
    "import numpy as np\n",
    "import matplotlib.pyplot as plt\n",
    "import matplotlib.animation as animation\n",
    "from matplotlib.animation import PillowWriter\n",
    "from IPython.display import HTML\n",
    "\n",
    "class visualization:\n",
    "    def __init__(self, S, F):\n",
    "        '''\n",
    "          Η μέθοδος αυτή αρχικοποιεί ένα αντικείμενο τύπου visualization.\n",
    "          Είσοδος:\n",
    "          -> S: το σημείο εκκίνσης της αναζήτησης\n",
    "          -> F: το σημείο τερματισμού\n",
    "        '''\n",
    "        self.S = S\n",
    "        self.F = F\n",
    "        self.images = []\n",
    "\n",
    "    def draw_step(self, grid, frontier, expanded_nodes):\n",
    "        '''\n",
    "          Η συνάρτηση αυτή καλείται για να σχεδιαστεί ένα frame στο animation (πρακτικά έπειτα από την επέκταση κάθε κόμβου)\n",
    "          Είσοδος:\n",
    "          -> grid: Ένα χάρτης τύπου grid\n",
    "          -> frontier: Μια λίστα με τους κόμβους που ανήκουν στο μέτωπο της αναζήτησης\n",
    "          -> expanded_nodes: Μια λίστα με τους κόμβους που έχουν ήδη επεκταθεί\n",
    "          Επιστρέφει: None\n",
    "          Η συνάρτηση αυτή πρέπει να καλεστεί τουλάχιστον μια φορά για να μπορέσει να σχεδιαστει ένα animation (πρεπεί το animation να έχει τουλάχιστον ένα frame).\n",
    "        '''\n",
    "        image = np.zeros((grid.N, grid.N, 3), dtype=int)\n",
    "        image[~grid.grid] = [0, 0, 0]\n",
    "        image[grid.grid] = [255, 255, 255]\n",
    "        # Use this to treat 1/True as obstacles\n",
    "        # image[grid.grid] = [0, 0, 0]\n",
    "        # image[~grid.grid] = [255, 255, 255]\n",
    "\n",
    "        for node in expanded_nodes:\n",
    "            image[node] = [0, 0, 128]\n",
    "\n",
    "        for node in frontier:\n",
    "            image[node] = [0, 225, 0]\n",
    "\n",
    "        image[self.S] = [50, 168, 64]\n",
    "        image[self.F] = [168, 50, 50]\n",
    "        self.images.append(image)\n",
    "\n",
    "    def add_path(self, path):\n",
    "        '''\n",
    "          Η συνάρτηση αυτή προσθέτει στο τελευταίο frame το βέλτιστο μονοπάτι.\n",
    "          Είσοδος:\n",
    "          -> path: Μια λίστα η όποια περιέχει το βέλτιστο μονοπάτι (η οποία πρέπει να περιέχει και τον κόμβο αρχή και τον κόμβο στόχο)\n",
    "          Έξοδος: None\n",
    "        '''\n",
    "        for n in path[1:-1]:\n",
    "            image = np.copy(self.images[-1])\n",
    "            image[n] = [66, 221, 245]\n",
    "            self.images.append(image)\n",
    "        for _ in range (100):\n",
    "            self.images.append(image)\n",
    "\n",
    "    def create_gif(self, fps = 30, repeat_delay = 2000):\n",
    "        if len(self.images) == 0:\n",
    "            raise EmptyStackOfImages(\"Error! You have to call 'draw_step' at  first.\")\n",
    "        fig = plt.figure()\n",
    "        plt.axis('off')\n",
    "        ims = []\n",
    "        for img in self.images:\n",
    "            img = plt.imshow(img)\n",
    "            ims.append([img])\n",
    "        ani = animation.ArtistAnimation(fig, ims, interval=1000//fps, blit=True, repeat_delay= repeat_delay)\n",
    "        plt.close(fig)\n",
    "        return ani\n",
    "\n",
    "    def save_gif(self, filename, fps = 30):\n",
    "        '''\n",
    "            Η συνάρτηση αυτή ξαναδημιουργεί και αποθηκεύει το animation σε ένα αρχείο.\n",
    "            Είσοδος:\n",
    "            -> Το όνομα του αρχείου με κατάληξη .gif\n",
    "            Έξοδος: (None)\n",
    "        '''\n",
    "        ani = self.create_gif(fps)\n",
    "        writer = PillowWriter(fps= fps)\n",
    "        ani.save(filename, writer=writer)\n",
    "\n",
    "    def show_gif(self, fps= 30, repeat_delay = 2000):\n",
    "        '''\n",
    "            Η συνάρτηση αυτή εμφανίζει inline το animation.\n",
    "            Είσοδος:\n",
    "            -> fps: τα frames per second\n",
    "            Έξοδος: Το αντικείμενο που παίζει το animation\n",
    "            Exceptions: EmptyStackOfImages αν το animation δεν έχει ούτε ένα frame, δηλαδή αν η draw_step δεν έχει καλεστεί ποτέ.\n",
    "        '''\n",
    "        ani = self.create_gif(fps, repeat_delay)\n",
    "        # return HTML(ani.to_html5_video())\n",
    "        return HTML(ani.to_jshtml())\n",
    "\n",
    "    def show_last_frame(self):\n",
    "        '''\n",
    "            Η μέθοδος αυτή εμφανίζει inline το τελευταίο frame που έχει δημιουργήθει.\n",
    "            Είσοδος:\n",
    "            Έξοδος: Το αντικείμενο που εμφανίζει την εικόνα.\n",
    "            Exceptions: EmptyStackOfImages αν το animation δεν έχει ούτε ένα frame, δηλαδή αν η draw_step δεν έχει καλεστεί ποτέ.\n",
    "        '''\n",
    "        if len(self.images) == 0:\n",
    "            raise EmptyStackOfImages(\"Error! You have to call 'draw_step' at  first.\")\n",
    "        else:\n",
    "            plt.imshow(self.images[-1])\n",
    "\n",
    "\n",
    "class EmptyStackOfImages(Exception):\n",
    "    pass"
   ]
  },
  {
   "cell_type": "markdown",
   "metadata": {
    "id": "HTjP864PLeRW"
   },
   "source": [
    "## Μέρος 1"
   ]
  },
  {
   "cell_type": "code",
   "execution_count": 164,
   "metadata": {
    "id": "t-BBg2eWAFN4"
   },
   "outputs": [],
   "source": [
    "%matplotlib inline\n",
    "import numpy as np\n",
    "from queue import LifoQueue\n",
    "import  random\n",
    "import matplotlib.pyplot as plt\n",
    "\n",
    "\n",
    "class Maze:\n",
    "    def __init__(self, N, S, F, threshold=0.02):\n",
    "        #print(\"hi21\")\n",
    "\n",
    "#           \"\"\"\n",
    "#           N: integer that indicates the size of the NxN grid of the maze\n",
    "#           S: pair of integers that indicates the coordinates of the starting point (S)\n",
    "#           F: pair of integers that indicates the coordinates of the finish point (F)\n",
    "#           You can add any other parameters you want to customize maze creation (e.g. variables that\n",
    "#           control the creation of additional paths)\n",
    "#           \"\"\"\n",
    "     #   print(\"hi\")\n",
    "        assert N > 2\n",
    "\n",
    "        ## Make sure start and end are within the grid\n",
    "\n",
    "        assert S < (N-1, N-1)\n",
    "        assert F < (N-1, N-1)\n",
    "\n",
    "        assert S > (0, 0)\n",
    "        assert F > (0, 0)\n",
    "\n",
    "        # Add here any additional constraints your implementation may have\n",
    "\n",
    "        assert N % 2 == 1\n",
    "        assert S[0] % 2 == 1\n",
    "        assert S[1] % 2 == 1\n",
    "        assert F[0] % 2 == 1\n",
    "        assert F[1] % 2 == 1\n",
    "\n",
    "        self.N = N\n",
    "        self.S = S\n",
    "        self.F = F\n",
    "\n",
    "      # Keep track of the agents in the Maze\n",
    "        self.agents=[]\n",
    "\n",
    "      ## Initialize grid\n",
    "\n",
    "        self.grid = np.zeros((N, N), dtype=bool)\n",
    "\n",
    "        def neighbors(node, N, visited, threshold):\n",
    "            \"\"\"\n",
    "            Returns all neighbors of a node that are either unvisited, or they are visited but\n",
    "            there is a wall between the node and the neighbor and the neighbor passes a random test.\n",
    "            \"\"\"\n",
    "\n",
    "            l = []\n",
    "            x, y = node\n",
    "\n",
    "            # first condition in all checks is for boundaries\n",
    "            # neighbors are +-2 in x or y\n",
    "            # walls are +-1\n",
    "\n",
    "            if x > 2 and (not visited[x-2, y] or (not visited[x-1,y] and random.uniform(0,1) <= threshold)):\n",
    "                l.append((x-2, y))\n",
    "            ### YOUR CODE HERE \\/\n",
    "            if x +2 < N - 1 and (not visited[x+2, y] or (not visited[x+1,y] and random.uniform(0,1) <= threshold)):\n",
    "                l.append ((x+2, y))\n",
    "\n",
    "            if y > 2 and (not visited[x, y-2] or (not visited[x, y-1] and random.uniform(0,1) <= threshold)):\n",
    "                l.append((x, y-2))\n",
    "\n",
    "            if y +2 <  N-1 and (not visited[x, y+2] or (not visited[x, y+1] and random.uniform(0,1) <= threshold)):\n",
    "                l.append((x, y+2))\n",
    "\n",
    "            ### YOUR CODE HERE /\\\n",
    "            return l\n",
    "\n",
    "        stack = []\n",
    "        stack.append(self.S)\n",
    "        self.grid[self.S] = True\n",
    "\n",
    "        while stack:\n",
    "            current_node = stack.pop()\n",
    "          # get all unvisited neighbors (and some visited ones with a random chance)\n",
    "            n = neighbors(current_node, self.N, self.grid, threshold)\n",
    "            if len(n):\n",
    "                stack.append(current_node)\n",
    "\n",
    "              ### YOUR CODE HERE \\/\n",
    "              # select a random neighbor\n",
    "                next_node = random.choice(n)\n",
    "              ### YOUR CODE HERE /\\\n",
    "                wall_x = (current_node[0] + next_node[0]) // 2\n",
    "                wall_y = (current_node[1] + next_node[1]) // 2\n",
    "                self.grid[wall_x, wall_y] = True\n",
    "\n",
    "              ### YOUR CODE HERE \\/\n",
    "              # break the wall between current and next node\n",
    "\n",
    "    #           self.grid[wall_x, wall_y] = True\n",
    "              ### YOUR CODE HERE /\\\n",
    "\n",
    "              # mark next node as visited and add it to the stack\n",
    "                self.grid[next_node] = True\n",
    "                stack.append(next_node)\n",
    "\n",
    "\n",
    "\n",
    "    def adjacent_no_walls(self, node):\n",
    "        x, y = node\n",
    "        ret = []\n",
    "        if x - 1 > -1 and self.grid[x-1,y]:\n",
    "            ret.append((x-1,y))\n",
    "        if x + 1 < self.N and self.grid[x+1,y]:\n",
    "            ret.append((x+1,y))\n",
    "        if y - 1 > -1 and self.grid[x,y-1]:\n",
    "            ret.append((x,y-1))\n",
    "        if y + 1 < self.N and self.grid[x,y+1]:\n",
    "            ret.append((x,y+1))\n",
    "        return ret\n",
    "\n",
    "\n",
    "\n",
    "    def draw_map(self, path=None,return_image=False):\n",
    "        \"\"\"\n",
    "        Draws the maze as an image. Considers grid values of 0/False to represent obstacles and\n",
    "        values of 1/True to represent empty cells, but this can be customized. Obstacles are painted\n",
    "        black and empty cells are painted white. Starting point is painted green and finish point red.\n",
    "        Optionally accepts as a parameter a path within the maze which is painted blue.\n",
    "        \"\"\"\n",
    "        image = np.zeros((self.N, self.N, 3), dtype=int)\n",
    "        image[~self.grid] = [0, 0, 0]\n",
    "        image[self.grid] = [255, 255, 255]\n",
    "        # Use this to treat 1/True as obstacles\n",
    "        # image[self.grid] = [0, 0, 0]\n",
    "        # image[~self.grid] = [255, 255, 255]\n",
    "\n",
    "        image[self.S] = [50, 168, 64]\n",
    "        image[self.F] = [168, 50, 50]\n",
    "        if path:\n",
    "            for n in path[1:-1]:\n",
    "                image[n] = [66, 221, 245]\n",
    "\n",
    "        if len(self.agents)>0:\n",
    "            for a in self.agents:\n",
    "                image[a.location]=a.color\n",
    "\n",
    "        if return_image:\n",
    "            return image\n",
    "        else:\n",
    "            plt.imshow(image)\n",
    "            plt.xticks([])\n",
    "            plt.yticks([])\n",
    "            plt.show()\n"
   ]
  },
  {
   "cell_type": "code",
   "execution_count": 165,
   "metadata": {
    "id": "9LK61zuVBCi2"
   },
   "outputs": [
    {
     "data": {
      "image/png": "[encoded data removed]",
      "text/plain": [
       "<Figure size 640x480 with 1 Axes>"
      ]
     },
     "metadata": {},
     "output_type": "display_data"
    },
    {
     "data": {
      "image/png": "[encoded data removed]",
      "text/plain": [
       "<Figure size 640x480 with 1 Axes>"
      ]
     },
     "metadata": {},
     "output_type": "display_data"
    },
    {
     "data": {
      "image/png": "[encoded data removed]",
      "text/plain": [
       "<Figure size 640x480 with 1 Axes>"
      ]
     },
     "metadata": {},
     "output_type": "display_data"
    }
   ],
   "source": [
    "for N, S, F in (11, (1, 3), (7, 9)), (25, (3, 7), (23, 19)), (51, (9, 3), (41, 41)):\n",
    "    map = Maze(N, S, F, threshold=2/(N*np.log(N)))\n",
    "    map.draw_map()"
   ]
  },
  {
   "cell_type": "markdown",
   "metadata": {
    "id": "7XhekogLCJ1i"
   },
   "source": [
    "## Μέρος 2\n"
   ]
  },
  {
   "cell_type": "code",
   "execution_count": 166,
   "metadata": {
    "id": "dXgXz9ZbCR2y"
   },
   "outputs": [],
   "source": [
    "from queue import PriorityQueue\n",
    "\n",
    "class pathfinder:\n",
    "    def __init__(self, S, F, grid, c, h,visualize=True):\n",
    "        self.S = S\n",
    "        self.F = F\n",
    "        self.grid = grid\n",
    "        self.cost = c\n",
    "        self.heuristic = h\n",
    "        self.no_expanded_nodes = 0\n",
    "\n",
    "        #for visualization\n",
    "        self.visualize=visualize\n",
    "        self.vis = visualization(S, F)\n",
    "        self.find_path()\n",
    "\n",
    "\n",
    "    def find_path(self):\n",
    "        frontier = PriorityQueue()\n",
    "        frontier.put((0, self.S))\n",
    "        came_from = {}\n",
    "        cost_so_far = {}\n",
    "        came_from[self.S] = None\n",
    "        cost_so_far[self.S] = 0\n",
    "        self.no_expanded_nodes = 0\n",
    "\n",
    "        while not frontier.empty():\n",
    "            current = frontier.get()[1]\n",
    "            if current == self.F:\n",
    "                break\n",
    "            self.no_expanded_nodes += 1\n",
    "\n",
    "            for next in  self.grid.adjacent_no_walls(current):\n",
    "                ### YOUR CODE HERE \\/ (cost so far+cost to next)\n",
    "                new_cost = cost_so_far[current] +  self.cost(current, next)\n",
    "                ### YOUR CODE HERE /\\\n",
    "\n",
    "                if next not in cost_so_far or new_cost < cost_so_far[next]:\n",
    "                    cost_so_far[next] = new_cost\n",
    "\n",
    "                    ### YOUR CODE HERE \\/ (c+h)\n",
    "                    priority = new_cost + self.heuristic(current, next)\n",
    "                    ### YOUR CODE HERE /\\\n",
    "                    frontier.put((priority, next))\n",
    "                    came_from[next] = current\n",
    "                #for animation\n",
    "                #find frontier and expanded nodes\n",
    "                restore = []\n",
    "                while not frontier.empty():\n",
    "                    node = frontier.get()\n",
    "                    restore.append(node)\n",
    "                for node in restore:\n",
    "                    frontier.put(node)\n",
    "                exp = []\n",
    "                #find expanded nodes\n",
    "                for v in came_from:\n",
    "                    if v:\n",
    "                        exp.append(v)\n",
    "                if self.visualize:\n",
    "                    self.vis.draw_step(self.grid, [r[1] for r in restore], exp)\n",
    "\n",
    "\n",
    "        # follow backlinks to build path\n",
    "        # current = self.F\n",
    "        path = []\n",
    "        while current != self.S:\n",
    "            path.append(current)\n",
    "            if current not in came_from:\n",
    "                self.grid.draw_map()\n",
    "            current = came_from[current]\n",
    "        path.append(self.S)\n",
    "        path.reverse()\n",
    "\n",
    "        self.path = path\n",
    "\n",
    "    def get_path(self):\n",
    "        return self.path\n",
    "\n",
    "    def getPathLength(self):\n",
    "        return len(self.path)\n",
    "\n",
    "    def get_complexity(self):\n",
    "        return self.no_expanded_nodes\n"
   ]
  },
  {
   "cell_type": "code",
   "execution_count": 167,
   "metadata": {},
   "outputs": [],
   "source": [
    "\n",
    "class BFS:\n",
    "    def __init__(self, S, F, grid, visualize=True):\n",
    "        self.S = S\n",
    "        self.F = F\n",
    "        self.grid = grid\n",
    "\n",
    "        self.no_expanded_nodes = 0\n",
    "\n",
    "        #for visualization \n",
    "        self.visualize=visualize\n",
    "        self.vis = visualization(S, F)\n",
    "        self.find_path()\n",
    "\n",
    "    def find_path(self):\n",
    "        frontier = Queue()\n",
    "        frontier.put(self.S)\n",
    "        came_from = {}\n",
    "        came_from[self.S] = None\n",
    "        self.no_expanded_nodes = 0\n",
    "        \n",
    "        while not frontier.empty():\n",
    "            current = frontier.get()\n",
    "            if current == self.F:\n",
    "                break\n",
    "            self.no_expanded_nodes += 1\n",
    "\n",
    "            for next in self.grid.adjacent_no_walls(current):\n",
    "                if next not in came_from:\n",
    "                    frontier.put(next)\n",
    "                    came_from[next] = current\n",
    "                # for animation\n",
    "                # find frontier and expanded nodes\n",
    "                if self.visualize:\n",
    "                    self.vis.draw_step(self.grid, list(frontier.queue), list(came_from.keys()))\n",
    "                    \n",
    "\n",
    "        # follow backlinks to build path\n",
    "        path = []\n",
    "        current = self.F\n",
    "        while current != self.S:\n",
    "            path.append(current)\n",
    "            if current not in came_from:\n",
    "                self.grid.draw_map()\n",
    "            current = came_from[current]\n",
    "        path.append(self.S)\n",
    "        path.reverse()\n",
    "\n",
    "        self.path = path\n",
    "        if self.visualize:\n",
    "            self.vis.add_path(self.path)\n",
    "\n",
    "          \n",
    "    def get_path(self):\n",
    "        return self.path\n",
    "\n",
    "    def getPathLength(self):\n",
    "        return len(self.path)\n",
    "\n",
    "    def get_complexity(self):\n",
    "        return self.no_expanded_nodes"
   ]
  },
  {
   "cell_type": "code",
   "execution_count": 168,
   "metadata": {},
   "outputs": [],
   "source": [
    "class DFS:\n",
    "    def __init__(self, S, F, grid,visualize=True):\n",
    "        self.S = S\n",
    "        self.F = F\n",
    "        self.grid = grid\n",
    "\n",
    "        self.no_expanded_nodes = 0\n",
    "\n",
    "        #for visualization\n",
    "        self.visualize=visualize\n",
    "        self.vis = visualization(S, F)\n",
    "        self.find_path()\n",
    "\n",
    "\n",
    "    def find_path(self):\n",
    "        visited = set()\n",
    "        came_from = {}\n",
    "        frontier = [self.S]\n",
    "        self.no_expanded_nodes = 0\n",
    "\n",
    "        while frontier:\n",
    "            current = frontier.pop()\n",
    "            if current == self.F:\n",
    "                break\n",
    "            visited.add(current)\n",
    "            self.no_expanded_nodes += 1\n",
    "            \n",
    "            for next in  self.grid.adjacent_no_walls(current):\n",
    "                if next not in visited:\n",
    "                    frontier.append(next)\n",
    "                    came_from[next] = current\n",
    "                \n",
    "                restore = frontier.copy()\n",
    "                exp = visited.copy()\n",
    "                if self.visualize:\n",
    "                    self.vis.draw_step(self.grid, list(frontier.queue), list(came_from.keys()))\n",
    "        \n",
    "        path = []\n",
    "        current = self.F\n",
    "        while current != self.S:\n",
    "            path.append(current)\n",
    "            if current not in came_from:\n",
    "                self.grid.draw_map()\n",
    "            current = came_from[current]\n",
    "        path.append(self.S)\n",
    "        path.reverse()\n",
    "\n",
    "        self.path = path\n",
    "\n",
    "    def get_path(self):\n",
    "        return self.path\n",
    "\n",
    "    def getPathLength(self):\n",
    "        return len(self.path)\n",
    "\n",
    "    def get_complexity(self):\n",
    "        return self.no_expanded_nodes\n"
   ]
  },
  {
   "cell_type": "code",
   "execution_count": 169,
   "metadata": {},
   "outputs": [],
   "source": [
    "from queue import Queue\n",
    "\n",
    "class Bidir:\n",
    "    def __init__(self, S, F, grid, visualize=True):\n",
    "        self.S = S\n",
    "        self.F = F\n",
    "        self.grid = grid\n",
    "        self.no_expanded_nodes = 0\n",
    "\n",
    "        # for visualization \n",
    "        self.visualize=visualize\n",
    "        self.vis = visualization(S, F)\n",
    "        self.find_path()\n",
    "    \n",
    "        \n",
    "    def find_path(self):\n",
    "        visited1 = set()\n",
    "        visited2 = set()\n",
    "        frontier1 = Queue()\n",
    "        frontier2 = Queue()\n",
    "        came_from1 = {}\n",
    "        came_from2 = {}\n",
    "        found = False\n",
    "        self.no_expanded_nodes = 0\n",
    "\n",
    "        # initialize start and goal nodes of the two search trees\n",
    "        frontier1.put(self.S)\n",
    "        visited1.add(self.S)\n",
    "        frontier2.put(self.F)\n",
    "        visited2.add(self.F)\n",
    "\n",
    "        while not found and not frontier1.empty() and not frontier2.empty():\n",
    "            # expand frontier from the start node side\n",
    "            current1 = frontier1.get()\n",
    "            for next1 in self.grid.adjacent_no_walls(current1):\n",
    "                if next1 not in visited1:\n",
    "                    frontier1.put(next1)\n",
    "                    visited1.add(next1)\n",
    "                    came_from1[next1] = current1\n",
    "                    if next1 in visited2:\n",
    "                        found = True\n",
    "                        meeting_point = next1\n",
    "                        break\n",
    "            self.no_expanded_nodes += 1\n",
    "\n",
    "            # expand frontier from the goal node side\n",
    "            current2 = frontier2.get()\n",
    "            for next2 in self.grid.adjacent_no_walls(current2):\n",
    "                if next2 not in visited2:\n",
    "                    frontier2.put(next2)\n",
    "                    visited2.add(next2)\n",
    "                    came_from2[next2] = current2\n",
    "                    if next2 in visited1:\n",
    "                        found = True\n",
    "                        meeting_point = next2\n",
    "                        break\n",
    "            self.no_expanded_nodes += 1\n",
    "\n",
    "            # for animation\n",
    "            # find frontier and expanded nodes\n",
    "            restore1 = list(frontier1.queue)\n",
    "            restore2 = list(frontier2.queue)\n",
    "            exp = visited1.union(visited2)\n",
    "            if self.visualize:\n",
    "                self.vis.draw_step(self.grid, restore1 + restore2, exp)\n",
    "        \n",
    "        # follow backlinks to build path\n",
    "        path1 = []\n",
    "        current1 = meeting_point\n",
    "        while current1 != self.S:\n",
    "            path1.append(current1)\n",
    "            current1 = came_from1[current1]\n",
    "        path1.append(self.S)\n",
    "        path1.reverse()\n",
    "\n",
    "        path2 = []\n",
    "        current2 = meeting_point\n",
    "        while current2 != self.F:\n",
    "            path2.append(current2)\n",
    "            current2 = came_from2[current2]\n",
    "        path2.append(self.F)\n",
    "\n",
    "        self.path = path1 + path2\n",
    "        if self.visualize:\n",
    "            self.vis.add_path(self.path)\n",
    "\n",
    "\n",
    "    def get_path(self):\n",
    "        return self.path\n",
    "\n",
    "    def getPathLength(self):\n",
    "        return len(self.path)\n",
    "\n",
    "    def get_complexity(self):\n",
    "        return self.no_expanded_nodes\n"
   ]
  },
  {
   "cell_type": "code",
   "execution_count": 170,
   "metadata": {},
   "outputs": [],
   "source": [
    "class HillClimbing:\n",
    "    def __init__(self, S, F, grid, c, h, visualize=True):\n",
    "        self.S = S\n",
    "        self.F = F\n",
    "        self.grid = grid\n",
    "        self.cost = c\n",
    "        self.heuristic = h\n",
    "        self.no_expanded_nodes = 0\n",
    "\n",
    "        #for visualization \n",
    "        self.visualize=visualize\n",
    "        self.vis = visualization(S, F)\n",
    "        self.find_path()\n",
    "        \n",
    "    def find_path(self):\n",
    "        current = self.S\n",
    "        path = [current]\n",
    "\n",
    "        while current != self.F:\n",
    "            neighbors = self.grid.adjacent_no_walls(current)\n",
    "            best_neighbor = None\n",
    "            best_neighbor_score = float('inf')\n",
    "            \n",
    "            for neighbor in neighbors:\n",
    "                # calculate the score for this neighbor\n",
    "                score = self.heuristic(neighbor, self.F)\n",
    "                \n",
    "                if score < best_neighbor_score:\n",
    "                    best_neighbor = neighbor\n",
    "                    best_neighbor_score = score\n",
    "                    \n",
    "                \n",
    "            # if the best neighbor has a higher score than the current node,\n",
    "            # return the current path (hill climbing is stuck)\n",
    "            if best_neighbor_score > self.heuristic(current, self.F):\n",
    "                break\n",
    "                \n",
    "            # update the current node and path\n",
    "            if best_neighbor is not None:\n",
    "                current = best_neighbor\n",
    "                path.append(current)\n",
    "\n",
    "                self.no_expanded_nodes += 1\n",
    "                \n",
    "                #for animation\n",
    "                #find expanded nodes\n",
    "                exp = [n for n in neighbors if n is not None]\n",
    "                if self.visualize:\n",
    "                    self.vis.draw_step(self.grid, [current], exp)\n",
    "                else:\n",
    "                    break\n",
    "\n",
    "        self.path = path\n",
    "\n",
    "        if self.visualize:\n",
    "            self.vis.add_path(self.path)\n",
    "\n",
    "    def get_path(self):\n",
    "        return self.path\n",
    "\n",
    "    def getPathLength(self):\n",
    "        return len(self.path)\n",
    "\n",
    "    def get_complexity(self):\n",
    "        return self.no_expanded_nodes\n",
    "                \n",
    "\n",
    "\n",
    "        \n",
    "    "
   ]
  },
  {
   "cell_type": "code",
   "execution_count": 171,
   "metadata": {
    "id": "Xmmp_4lAOERH"
   },
   "outputs": [],
   "source": [
    "import math\n",
    "\n",
    "## A heuristic\n",
    "def euclidean(a, b):\n",
    "    return math.sqrt((a[0] - b[0])**2 + (a[1] - b[1])**2)\n",
    "\n",
    "# Add more heuristics here\n",
    "\n",
    "### YOUR CODE HERE \\/\n",
    "def manhattan(a, b):\n",
    "    return abs(a[0] - b[0]) + abs(a[1] - b[1])\n",
    "\n",
    "def chebyshev(a, b):\n",
    "    return max(abs(a[0] - b[0]), abs(a[1] - b[1]))\n",
    "\n",
    "def hamming(a, b):\n",
    "    return sum(1 for i, j in zip(a, b) if i != j)\n",
    "\n",
    "def octile(a, b):\n",
    "    dx = abs(a[0] - b[0])\n",
    "    dy = abs(a[1] - b[1])\n",
    "    return max(dx, dy) + (math.sqrt(2) - 1) * min(dx, dy)\n",
    "\n",
    "\n",
    "### YOUR CODE HERE /\\"
   ]
  },
  {
   "cell_type": "code",
   "execution_count": 172,
   "metadata": {
    "id": "fwcVPbRACUIz"
   },
   "outputs": [],
   "source": [
    "## Create a 41x41 maze\n",
    "N = 41\n",
    "S = (5, 9)\n",
    "F = (37, 37)\n",
    "\n",
    "map = Maze(N, S, F)"
   ]
  },
  {
   "cell_type": "code",
   "execution_count": 173,
   "metadata": {
    "id": "YOCQHk9M1Yrl"
   },
   "outputs": [
    {
     "data": {
      "image/png": "[encoded data removed]",
      "text/plain": [
       "<Figure size 640x480 with 1 Axes>"
      ]
     },
     "metadata": {},
     "output_type": "display_data"
    },
    {
     "name": "stdout",
     "output_type": "stream",
     "text": [
      "CPU times: user 406 ms, sys: 0 ns, total: 406 ms\n",
      "Wall time: 405 ms\n"
     ]
    }
   ],
   "source": [
    "%%time\n",
    "## Find and visualize the path\n",
    "pf = pathfinder(S, F, map, lambda x, y: 1, lambda x, y: 0)\n",
    "map.draw_map(pf.get_path())"
   ]
  },
  {
   "cell_type": "code",
   "execution_count": 174,
   "metadata": {
    "id": "_K4xHgp7olwp"
   },
   "outputs": [
    {
     "name": "stdout",
     "output_type": "stream",
     "text": [
      "Number of expanded nodes: 596\n"
     ]
    }
   ],
   "source": [
    "expanded_nodes = pf.get_complexity()\n",
    "print('Number of expanded nodes:', expanded_nodes)"
   ]
  },
  {
   "cell_type": "code",
   "execution_count": 175,
   "metadata": {
    "id": "--yjHv6503F_"
   },
   "outputs": [
    {
     "name": "stdout",
     "output_type": "stream",
     "text": [
      "euclidean:\n"
     ]
    },
    {
     "data": {
      "image/png": "[encoded data removed]",
      "text/plain": [
       "<Figure size 640x480 with 1 Axes>"
      ]
     },
     "metadata": {},
     "output_type": "display_data"
    },
    {
     "name": "stdout",
     "output_type": "stream",
     "text": [
      "--- Execution time for euclidean: 0.36727070808410645 seconds ---\n",
      "manhattan:\n"
     ]
    },
    {
     "data": {
      "image/png": "[encoded data removed]",
      "text/plain": [
       "<Figure size 640x480 with 1 Axes>"
      ]
     },
     "metadata": {},
     "output_type": "display_data"
    },
    {
     "name": "stdout",
     "output_type": "stream",
     "text": [
      "--- Execution time for manhattan: 0.37302088737487793 seconds ---\n",
      "chebyshev:\n"
     ]
    },
    {
     "data": {
      "image/png": "[encoded data removed]",
      "text/plain": [
       "<Figure size 640x480 with 1 Axes>"
      ]
     },
     "metadata": {},
     "output_type": "display_data"
    },
    {
     "name": "stdout",
     "output_type": "stream",
     "text": [
      "--- Execution time for chebyshev: 0.3652467727661133 seconds ---\n",
      "hamming:\n"
     ]
    },
    {
     "data": {
      "image/png": "[encoded data removed]",
      "text/plain": [
       "<Figure size 640x480 with 1 Axes>"
      ]
     },
     "metadata": {},
     "output_type": "display_data"
    },
    {
     "name": "stdout",
     "output_type": "stream",
     "text": [
      "--- Execution time for hamming: 0.3933677673339844 seconds ---\n",
      "octile:\n"
     ]
    },
    {
     "data": {
      "image/png": "[encoded data removed]",
      "text/plain": [
       "<Figure size 640x480 with 1 Axes>"
      ]
     },
     "metadata": {},
     "output_type": "display_data"
    },
    {
     "name": "stdout",
     "output_type": "stream",
     "text": [
      "--- Execution time for octile: 0.3955245018005371 seconds ---\n"
     ]
    }
   ],
   "source": [
    "import time\n",
    "\n",
    "# Measure execution time for euclidean\n",
    "print(\"euclidean:\")\n",
    "start_time = time.time()\n",
    "pf = pathfinder(S, F, map, lambda x, y: 1, euclidean)\n",
    "map.draw_map(pf.get_path())\n",
    "print(\"--- Execution time for euclidean: %s seconds ---\" % (time.time() - start_time))\n",
    "\n",
    "# Measure execution time for manhattan\n",
    "print(\"manhattan:\")\n",
    "start_time = time.time()\n",
    "pf = pathfinder(S, F, map, lambda x, y: 1, manhattan)\n",
    "map.draw_map(pf.get_path())\n",
    "print(\"--- Execution time for manhattan: %s seconds ---\" % (time.time() - start_time))\n",
    "\n",
    "# Measure execution time for chebyshev\n",
    "print(\"chebyshev:\")\n",
    "start_time = time.time()\n",
    "pf = pathfinder(S, F, map, lambda x, y: 1, chebyshev)\n",
    "map.draw_map(pf.get_path())\n",
    "print(\"--- Execution time for chebyshev: %s seconds ---\" % (time.time() - start_time))\n",
    "\n",
    "# Measure execution time for hamming\n",
    "print(\"hamming:\")\n",
    "start_time = time.time()\n",
    "pf = pathfinder(S, F, map, lambda x, y: 1, hamming)\n",
    "map.draw_map(pf.get_path())\n",
    "print(\"--- Execution time for hamming: %s seconds ---\" % (time.time() - start_time))\n",
    "\n",
    "# Measure execution time for octile\n",
    "print(\"octile:\")\n",
    "start_time = time.time()\n",
    "pf = pathfinder(S, F, map, lambda x, y: 1, octile)\n",
    "map.draw_map(pf.get_path())\n",
    "print(\"--- Execution time for octile: %s seconds ---\" % (time.time() - start_time))\n"
   ]
  },
  {
   "cell_type": "code",
   "execution_count": 176,
   "metadata": {},
   "outputs": [
    {
     "name": "stdout",
     "output_type": "stream",
     "text": [
      "euclidean:\n"
     ]
    },
    {
     "data": {
      "image/png": "[encoded data removed]",
      "text/plain": [
       "<Figure size 640x480 with 1 Axes>"
      ]
     },
     "metadata": {},
     "output_type": "display_data"
    },
    {
     "name": "stdout",
     "output_type": "stream",
     "text": [
      "--- Execution time for euclidean: 0.5346884727478027 seconds ---\n",
      "manhattan:\n"
     ]
    },
    {
     "data": {
      "image/png": "[encoded data removed]",
      "text/plain": [
       "<Figure size 640x480 with 1 Axes>"
      ]
     },
     "metadata": {},
     "output_type": "display_data"
    },
    {
     "name": "stdout",
     "output_type": "stream",
     "text": [
      "--- Execution time for manhattan: 0.5232837200164795 seconds ---\n",
      "chebyshev:\n"
     ]
    },
    {
     "data": {
      "image/png": "[encoded data removed]",
      "text/plain": [
       "<Figure size 640x480 with 1 Axes>"
      ]
     },
     "metadata": {},
     "output_type": "display_data"
    },
    {
     "name": "stdout",
     "output_type": "stream",
     "text": [
      "--- Execution time for chebyshev: 0.5157985687255859 seconds ---\n",
      "hamming:\n"
     ]
    },
    {
     "data": {
      "image/png": "[encoded data removed]",
      "text/plain": [
       "<Figure size 640x480 with 1 Axes>"
      ]
     },
     "metadata": {},
     "output_type": "display_data"
    },
    {
     "name": "stdout",
     "output_type": "stream",
     "text": [
      "--- Execution time for hamming: 0.522376537322998 seconds ---\n",
      "octile:\n"
     ]
    },
    {
     "data": {
      "image/png": "[encoded data removed]",
      "text/plain": [
       "<Figure size 640x480 with 1 Axes>"
      ]
     },
     "metadata": {},
     "output_type": "display_data"
    },
    {
     "name": "stdout",
     "output_type": "stream",
     "text": [
      "--- Execution time for octile: 0.5081832408905029 seconds ---\n"
     ]
    }
   ],
   "source": [
    "import time\n",
    "\n",
    "# Measure execution time for euclidean\n",
    "print(\"euclidean:\")\n",
    "start_time = time.time()\n",
    "pf = pathfinder(S, F, map, lambda x, y: 0, euclidean)\n",
    "map.draw_map(pf.get_path())\n",
    "print(\"--- Execution time for euclidean: %s seconds ---\" % (time.time() - start_time))\n",
    "\n",
    "# Measure execution time for manhattan\n",
    "print(\"manhattan:\")\n",
    "start_time = time.time()\n",
    "pf = pathfinder(S, F, map, lambda x, y: 0, manhattan)\n",
    "map.draw_map(pf.get_path())\n",
    "print(\"--- Execution time for manhattan: %s seconds ---\" % (time.time() - start_time))\n",
    "\n",
    "# Measure execution time for chebyshev\n",
    "print(\"chebyshev:\")\n",
    "start_time = time.time()\n",
    "pf = pathfinder(S, F, map, lambda x, y: 0, chebyshev)\n",
    "map.draw_map(pf.get_path())\n",
    "print(\"--- Execution time for chebyshev: %s seconds ---\" % (time.time() - start_time))\n",
    "\n",
    "# Measure execution time for hamming\n",
    "print(\"hamming:\")\n",
    "start_time = time.time()\n",
    "pf = pathfinder(S, F, map, lambda x, y: 0, hamming)\n",
    "map.draw_map(pf.get_path())\n",
    "print(\"--- Execution time for hamming: %s seconds ---\" % (time.time() - start_time))\n",
    "\n",
    "# Measure execution time for octile\n",
    "print(\"octile:\")\n",
    "start_time = time.time()\n",
    "pf = pathfinder(S, F, map, lambda x, y: 0, octile)\n",
    "map.draw_map(pf.get_path())\n",
    "print(\"--- Execution time for octile: %s seconds ---\" % (time.time() - start_time))\n"
   ]
  },
  {
   "cell_type": "code",
   "execution_count": 177,
   "metadata": {
    "id": "BFF5rMAHooqz"
   },
   "outputs": [
    {
     "name": "stdout",
     "output_type": "stream",
     "text": [
      "Number of expanded nodes: 751\n"
     ]
    }
   ],
   "source": [
    "expanded_nodes = pf.get_complexity()\n",
    "print('Number of expanded nodes:', expanded_nodes)"
   ]
  },
  {
   "cell_type": "code",
   "execution_count": null,
   "metadata": {
    "id": "WQSXlPPO07cN"
   },
   "outputs": [],
   "source": []
  },
  {
   "cell_type": "code",
   "execution_count": 178,
   "metadata": {
    "id": "f-0DySwVoqwm"
   },
   "outputs": [
    {
     "name": "stdout",
     "output_type": "stream",
     "text": [
      "Number of expanded nodes: 751\n"
     ]
    }
   ],
   "source": [
    "expanded_nodes = pf.get_complexity()\n",
    "print('Number of expanded nodes:', expanded_nodes)"
   ]
  },
  {
   "cell_type": "markdown",
   "metadata": {
    "id": "XmmqhRLfEjKj"
   },
   "source": [
    "## Μέρος 3\n",
    "\n",
    "Στο παρακάτω κελί σάς δίνεται ένα παράδειγμα για την κατασκευή γραφικών παραστάσεων. Θα πρέπει να κατασκευάσετε τις δύο γραφικές παραστάσεις σύμφωνα με τα ζητούμενα της άσκησης."
   ]
  },
  {
   "cell_type": "code",
   "execution_count": 179,
   "metadata": {
    "id": "j_wp8ZuWtwEw"
   },
   "outputs": [
    {
     "data": {
      "image/png": "[encoded data removed]",
      "text/plain": [
       "<Figure size 640x480 with 1 Axes>"
      ]
     },
     "metadata": {},
     "output_type": "display_data"
    }
   ],
   "source": [
    "path_lengths_a = [1,2,3,4,5,6,7,8,9]\n",
    "path_lengths_b = [1,1,2,3,5,8,13,21,34]\n",
    "map_sizes = [10,20,30,40,50,60,70,80,90]\n",
    "\n",
    "plt.plot(map_sizes, path_lengths_a)\n",
    "plt.plot(map_sizes, path_lengths_b )\n",
    "plt.legend(['algorithm A', 'algorithm B'])\n",
    "plt.title('Path length vs map size')\n",
    "plt.show()"
   ]
  },
  {
   "cell_type": "code",
   "execution_count": 181,
   "metadata": {
    "id": "U2JL2snN-pEL"
   },
   "outputs": [
    {
     "data": {
      "image/png": "[encoded data removed]",
      "text/plain": [
       "<Figure size 640x480 with 1 Axes>"
      ]
     },
     "metadata": {},
     "output_type": "display_data"
    }
   ],
   "source": [
    "### YOUR CODE HERE \\/\n",
    "algorithms = [\"Greedy-Best-First\", \"UCS\", \"A*\", \"DFS\", \"BFS\", \"Bidirectional_Search\"]\n",
    "\n",
    "def generateData(Nmin = 9, Nmax = 99, step = 10, M = 100):\n",
    "    data = {}\n",
    "    for alg in algorithms:\n",
    "        data[alg] = {\"pathLengths\" : {}, \"expNodes\" : {}}\n",
    "\n",
    "    for n in range(Nmin, Nmax + 1, step): ## maze dimension\n",
    "        avgLength = 0\n",
    "        avgNodes = 0\n",
    "        data[\"Greedy-Best-First\"][\"pathLengths\"][n] = 0\n",
    "        data[\"Greedy-Best-First\"][\"expNodes\"][n] = 0\n",
    "        data[\"UCS\"][\"pathLengths\"].update({n : 0})\n",
    "        data[\"UCS\"][\"expNodes\"].update({n : 0})\n",
    "        data[\"A*\"][\"pathLengths\"].update({n : 0})\n",
    "        data[\"A*\"][\"expNodes\"].update({n : 0})\n",
    "        data[\"DFS\"][\"pathLengths\"].update({n : 0})\n",
    "        data[\"DFS\"][\"expNodes\"].update({n : 0})\n",
    "        data[\"BFS\"][\"pathLengths\"].update({n : 0})\n",
    "        data[\"BFS\"][\"expNodes\"].update({n : 0})\n",
    "        data[\"Bidirectional_Search\"][\"pathLengths\"].update({n : 0})\n",
    "        data[\"Bidirectional_Search\"][\"expNodes\"].update({n : 0})\n",
    "\n",
    "\n",
    "        for _ in range(M):\n",
    "            S = (1, 1)\n",
    "            F = (n-2, n-2)\n",
    "            maze = Maze(n, S, F)\n",
    "            pf = pathfinder(S, F, maze, lambda x, y: 0, h = lambda x, y: manhattan(x, y), visualize=False)\n",
    "            pl=pf.getPathLength()\n",
    "            en=pf.get_complexity()\n",
    "            data[\"Greedy-Best-First\"][\"pathLengths\"][n] += pl\n",
    "            data[\"Greedy-Best-First\"][\"expNodes\"][n] += en\n",
    "\n",
    "            pf = pathfinder(S, F, maze, lambda x, y: 1, h = lambda x, y: 0, visualize=False)\n",
    "            pl=pf.getPathLength()\n",
    "            en=pf.get_complexity()\n",
    "            data[\"UCS\"][\"pathLengths\"][n] += pl\n",
    "            data[\"UCS\"][\"expNodes\"][n] += en\n",
    "\n",
    "            pf = pathfinder(S, F, maze, lambda x, y: 1,h = lambda x, y: manhattan(x, y), visualize=False)\n",
    "            pl=pf.getPathLength()\n",
    "            en=pf.get_complexity()\n",
    "            data[\"A*\"][\"pathLengths\"][n] += pl\n",
    "            data[\"A*\"][\"expNodes\"][n] += en\n",
    "\n",
    "            pf = DFS(S, F, maze, visualize=False)\n",
    "            pl=pf.getPathLength()\n",
    "            en=pf.get_complexity()\n",
    "            data[\"DFS\"][\"pathLengths\"][n] += pl\n",
    "            data[\"DFS\"][\"expNodes\"][n] += en\n",
    "\n",
    "            pf = BFS(S, F, maze, visualize=False)\n",
    "            pl=pf.getPathLength()\n",
    "            en=pf.get_complexity()\n",
    "            data[\"BFS\"][\"pathLengths\"][n] += pl\n",
    "            data[\"BFS\"][\"expNodes\"][n] += en\n",
    "\n",
    "\n",
    "            pf = Bidir(S, F, maze, visualize=False)\n",
    "            pl=pf.getPathLength()\n",
    "            en=pf.get_complexity()\n",
    "            data[\"Bidirectional_Search\"][\"pathLengths\"][n] += pl\n",
    "            data[\"Bidirectional_Search\"][\"expNodes\"][n] += en\n",
    "\n",
    "        ## divisions to get average\n",
    "        data[\"Greedy-Best-First\"][\"pathLengths\"][n] /= M\n",
    "        data[\"Greedy-Best-First\"][\"expNodes\"][n] /= M\n",
    "        data[\"UCS\"][\"pathLengths\"][n] /= M\n",
    "        data[\"UCS\"][\"expNodes\"][n] /= M\n",
    "        data[\"A*\"][\"pathLengths\"][n] /= M\n",
    "        data[\"A*\"][\"expNodes\"][n] /= M\n",
    "        data[\"DFS\"][\"pathLengths\"][n] /= M\n",
    "        data[\"DFS\"][\"expNodes\"][n] /= M\n",
    "        data[\"BFS\"][\"pathLengths\"][n] /= M\n",
    "        data[\"BFS\"][\"expNodes\"][n] /= M\n",
    "        data[\"Bidirectional_Search\"][\"pathLengths\"][n] /= M\n",
    "        data[\"Bidirectional_Search\"][\"expNodes\"][n] /= M\n",
    "    \n",
    "    return data\n",
    "\n",
    "data = generateData()\n",
    "plt.plot(*zip(*data[\"Greedy-Best-First\"][\"pathLengths\"].items()))\n",
    "plt.plot(*zip(*data[\"UCS\"][\"pathLengths\"].items()))\n",
    "plt.plot(*zip(*data[\"A*\"][\"pathLengths\"].items()))\n",
    "plt.plot(*zip(*data[\"DFS\"][\"pathLengths\"].items()))\n",
    "plt.plot(*zip(*data[\"BFS\"][\"pathLengths\"].items()))\n",
    "plt.plot(*zip(*data[\"Bidirectional_Search\"][\"pathLengths\"].items()))\n",
    "\n",
    "plt.legend(algorithms)\n",
    "plt.xlabel('Map size')\n",
    "plt.ylabel('Path length')\n",
    "plt.title('Path length vs map size')\n",
    "plt.show()\n",
    "### YOUR CODE HERE /\\\n",
    "\n",
    "\n"
   ]
  },
  {
   "cell_type": "code",
   "execution_count": 184,
   "metadata": {},
   "outputs": [
    {
     "data": {
      "image/png": "[encoded data removed]",
      "text/plain": [
       "<Figure size 640x480 with 1 Axes>"
      ]
     },
     "metadata": {},
     "output_type": "display_data"
    }
   ],
   "source": [
    "plt.plot(*zip(*data[\"Greedy-Best-First\"][\"expNodes\"].items()), color='red', linestyle='dashed')\n",
    "plt.plot(*zip(*data[\"UCS\"][\"expNodes\"].items()), color='blue', linestyle='dashdot')\n",
    "plt.plot(*zip(*data[\"A*\"][\"expNodes\"].items()), color='green', linestyle='dashdot')\n",
    "plt.plot(*zip(*data[\"DFS\"][\"expNodes\"].items()), color='purple', linestyle='solid')\n",
    "plt.plot(*zip(*data[\"BFS\"][\"expNodes\"].items()), color='orange', linestyle='dashed')\n",
    "plt.plot(*zip(*data[\"Bidirectional_Search\"][\"expNodes\"].items()), color='black', linestyle='solid')\n",
    "\n",
    "plt.legend(algorithms)\n",
    "plt.xlabel('Map size')\n",
    "plt.ylabel('Expanded Nodes')\n",
    "plt.title('Expanded Nodes vs map size')\n",
    "plt.show()"
   ]
  },
  {
   "cell_type": "markdown",
   "metadata": {
    "id": "ohQLtf7cN9nk"
   },
   "source": [
    "## Μερος 4"
   ]
  },
  {
   "cell_type": "markdown",
   "metadata": {
    "id": "eVNusFgt6wW7"
   },
   "source": [
    "Πρώτα, σας δίνεται αυτούσιος ο κώδικας του φαντάσματος. Το φάντασμα μας κυνηγάει τρέχοντας Α* με στόχο τη θέση μας."
   ]
  },
  {
   "cell_type": "code",
   "execution_count": 182,
   "metadata": {
    "id": "X0xzy3gpOYAr"
   },
   "outputs": [],
   "source": [
    "class Agent:\n",
    "  def __init__(self,S,grid,color, name = \"\"):\n",
    "    self.agent_name = name\n",
    "    self.location = S\n",
    "    self.color=color\n",
    "    self.maze = grid\n",
    "    self.maze.agents.append(self)\n",
    "    self.maze.grid[S]=1\n",
    "    self.path=[]\n",
    "\n",
    "  def find_path(self,F):\n",
    "    c = lambda x,y: 1\n",
    "    h = euclidean\n",
    "    pf = pathfinder(self.location, F, self.maze, c, h, visualize=False)\n",
    "    self.path = pf.path\n",
    "\n",
    "\n",
    "  def move(self):\n",
    "    if len(self.path)<1:\n",
    "      return\n",
    "    if self.location==self.path[0] and len(self.path)>1:\n",
    "      self.location=self.path[1]\n",
    "      self.path = self.path[2:]\n",
    "    else:\n",
    "      self.location=self.path[0]\n",
    "      self.path=self.path[1:]\n",
    "\n",
    "  def move_to(self, loc):\n",
    "    self.location = loc"
   ]
  },
  {
   "cell_type": "markdown",
   "metadata": {
    "id": "WwwV4mcF6-i7"
   },
   "source": [
    "Στη συνέχεια, δίνεται ο κώδικας για τον agent που τρέχει να ξεφύγει. Ο ABagent τρέχει ΑΒ με σκοπό να φτάσει στον τερματισμό χωρίς να τον πιάσει το φάντασμα. Καλείστε να συμπληρώσετε τα σημεία που παραλείπονται. Δώστε ιδιαίτερη προσοχή στην ευριστική συνάρτηση. Εξηγείστε τις επιλογές σας, όπως περιγράφεται παραπάνω."
   ]
  },
  {
   "cell_type": "code",
   "execution_count": 183,
   "metadata": {
    "id": "BcdukaOPNXg1"
   },
   "outputs": [
    {
     "ename": "IndentationError",
     "evalue": "expected an indented block (875005450.py, line 46)",
     "output_type": "error",
     "traceback": [
      "\u001b[0;36m  File \u001b[0;32m\"/tmp/ipykernel_10512/875005450.py\"\u001b[0;36m, line \u001b[0;32m46\u001b[0m\n\u001b[0;31m    def is_win(self, maze, agent):\u001b[0m\n\u001b[0m    ^\u001b[0m\n\u001b[0;31mIndentationError\u001b[0m\u001b[0;31m:\u001b[0m expected an indented block\n"
     ]
    }
   ],
   "source": [
    "class ABagent:\n",
    "  def __init__(self, S, grid, color, name = \"\"):\n",
    "    self.agent_name = name\n",
    "    self.location = S\n",
    "    self.color=color\n",
    "    self.maze = grid\n",
    "    self.maze.agents.append(self)\n",
    "    self.maze.grid[S]=1\n",
    "    self.path=[]\n",
    "\n",
    "  def get_best_action(self, ghosts, depth = 3):\n",
    "      best_action = None\n",
    "      best_score = float(\"-inf\") #you can use this for debugging\n",
    "      alpha = float(\"-inf\")\n",
    "      beta = float(\"inf\")\n",
    "\n",
    "      best_score, best_action = self.alpha_beta_agent(self.maze, self.location, ghosts, depth, alpha, beta, True)\n",
    "\n",
    "      return best_action\n",
    "\n",
    "  def alpha_beta_agent(self, maze, agent_pos, ghost_positions, depth, alpha, beta, maximizing_player=True):\n",
    "      if depth == 0 or self.is_win(maze, agent_pos) or self.is_lose(agent_pos, ghost_positions):\n",
    "          # Return the heuristic value if we've reached the maximum depth or the game is over\n",
    "          return self.heuristic_AB(map, agent_pos, ghost_positions), agent_pos\n",
    "\n",
    "      if maximizing_player:\n",
    "          # Agent is the maximizing player\n",
    "          best_score = float(\"-inf\")\n",
    "          best_action = None\n",
    "          for successor_state in maze.adjacent_no_walls(agent_pos):\n",
    "              score, _ = self.alpha_beta_agent(maze, successor_state, ghost_positions, depth - 1, alpha, beta, False)\n",
    "              if score > best_score:\n",
    "                  best_score = score\n",
    "                  best_action = successor_state\n",
    "              alpha = max(alpha, score)\n",
    "              if beta <= alpha:\n",
    "                  break\n",
    "          return best_score, best_action\n",
    "      else:\n",
    "          # Ghosts are the minimizing players\n",
    "          ### YOUR CODE HERE \\/\n",
    "\n",
    "          ### YOUR CODE HERE /\\\n",
    "\n",
    "\n",
    "  def is_win(self, maze, agent):\n",
    "      ### YOUR CODE HERE \\/\n",
    "      return ???\n",
    "      ### YOUR CODE HERE /\\\n",
    "\n",
    "  def is_lose(self, agent, ghosts):\n",
    "      ### YOUR CODE HERE \\/\n",
    "      return ???\n",
    "      ### YOUR CODE HERE /\\\n",
    "\n",
    "  def heuristic_AB(self, map, agent_pos, ghost_positions):\n",
    "      ### YOUR CODE HERE \\/\n",
    "\n",
    "      ### YOUR CODE HERE /\\\n",
    "\n",
    "  def move_to(self, loc):\n",
    "    self.location = loc"
   ]
  },
  {
   "cell_type": "markdown",
   "metadata": {
    "id": "ZcvY0Qt48F_A"
   },
   "source": [
    "Φτιάχνουμε αραιό χάρτη και ορίζουμε τους agents."
   ]
  },
  {
   "cell_type": "code",
   "execution_count": null,
   "metadata": {
    "id": "QKsDcfnOO2wv"
   },
   "outputs": [],
   "source": [
    "#create a sparse map with many paths, like the one below\n",
    "map = Maze(33, (1,1), (31,31), threshold=???)\n",
    "map.draw_map()"
   ]
  },
  {
   "cell_type": "code",
   "execution_count": null,
   "metadata": {
    "id": "-UwdSvWaO2ww"
   },
   "outputs": [],
   "source": [
    "x, y = np.random.choice(range(1, 31)), np.random.choice(range(1, 31))\n",
    "ghost = (Agent((x, y), map, [255,30,10], \"ghost\"))\n",
    "\n",
    "a1 = ABagent((2,1), map,[30,10,255], \"agentAB\")\n",
    "\n",
    "map.draw_map()"
   ]
  },
  {
   "cell_type": "markdown",
   "metadata": {
    "id": "kLq7O7mU8MWK"
   },
   "source": [
    "Παρακάτω, υλοποιείται το κυνηγητό. Ενδεικτικά ορίζουμε την παράμετρο depth του ΑΒ ίση με 5.\n",
    "\n",
    "Προσοχή: όπως σημειώνεται, μπορούμε να κάνουμε τους παίκτες να τρέχουν με διαφορετικές ταχύτητες. Είναι προτιμητέο να κρατήσετε την ταχύτητα ίση (όπως παρακάτω). Διαφορετικά, θα χρειαστεί να τροποποιήσετε τον αλγόριθμο ΑΒ.\n",
    "\n",
    "Μετρείστε το χρόνο εκτέλεσης και παρουσιάστε παραδείγματα. Γιατί ο αλγόριθμος σας δουλεύει;"
   ]
  },
  {
   "cell_type": "code",
   "execution_count": null,
   "metadata": {
    "id": "V2UHHj_7O2ww"
   },
   "outputs": [],
   "source": [
    "vis=visualization((1,1),(31,30))\n",
    "\n",
    "visited = [a1.location] #HINT: this might be helpful to you\n",
    "\n",
    "for i in range(100):\n",
    "  if a1.location==(31,31):\n",
    "    print(\"Win\")\n",
    "    break\n",
    "\n",
    "  if a1.location == ghost.location:\n",
    "    print(\"Lose\")\n",
    "    break\n",
    "\n",
    "  if i%1==0: #controls agent speed\n",
    "    best_move = a1.get_best_action([ghost.location], 5)\n",
    "    a1.move_to(best_move)\n",
    "    visited.append(a1.location)\n",
    "\n",
    "  if i%1==0: #controls ghost speed\n",
    "    ghost.find_path(a1.location)\n",
    "    ghost.move()\n",
    "\n",
    "  im = map.draw_map(return_image=True)\n",
    "  vis.images.append(im)"
   ]
  },
  {
   "cell_type": "code",
   "execution_count": null,
   "metadata": {
    "id": "BwWXUxSFZKLc"
   },
   "outputs": [],
   "source": [
    "vis.create_gif(fps=1)\n",
    "vis.show_gif()"
   ]
  },
  {
   "cell_type": "markdown",
   "metadata": {
    "id": "8o3F5sGT1YNm"
   },
   "source": [
    "## Μέρος 5: Bonus\n",
    "\n",
    "Υπενθυμίζεται ότι το output των κελιών που σχηματίζετε διατηρείται για περιορισμένο χρονικό διάστημα στο notebook, γι αυτό καλείστε να αποθηκεύσετε τη φωτογραφία (το πραγματοποιεί η συνάρτηση draw()) και να τη μεταφέρετε στο ανάλογο markdown."
   ]
  },
  {
   "cell_type": "code",
   "execution_count": null,
   "metadata": {
    "id": "k58iY7EPSa_m"
   },
   "outputs": [],
   "source": [
    "from IPython.display import HTML, Image\n",
    "from google.colab.output import eval_js\n",
    "from base64 import b64decode\n",
    "import PIL\n",
    "\n",
    "\n",
    "canvas_html = \"\"\"\n",
    "<canvas width=301 height=301></canvas>\n",
    "<br>\n",
    "\n",
    "<button id = \"start\" style=\"background-color: #008000\">Start</button>\n",
    "<button id = \"end\" style=\"background-color: #800000\">End</button>\n",
    "<button id = \"finish\">Finish</button>\n",
    "<script>\n",
    "\n",
    "var canvas = document.querySelector('canvas')\n",
    "var ctx = canvas.getContext('2d')\n",
    "\n",
    "for (var x = 0.5; x < 301; x += 20) {\n",
    "  ctx.moveTo(x, 0);\n",
    "  ctx.lineTo(x, 300);\n",
    "}\n",
    "\n",
    "for (var y = 0.5; y < 301; y += 20) {\n",
    "  ctx.moveTo(0, y);\n",
    "  ctx.lineTo(300, y);\n",
    "}\n",
    "\n",
    "ctx.strokeStyle = \"#000\";\n",
    "ctx.stroke();\n",
    "\n",
    "var button = document.getElementById('finish')\n",
    "var start_button = document.getElementById('start')\n",
    "var end_button = document.getElementById('end')\n",
    "\n",
    "\n",
    "start_button.onclick = ()=>{\n",
    "    ctx.fillStyle=\"#008000\";\n",
    "  }\n",
    "\n",
    "end_button.onclick = ()=>{\n",
    "    ctx.fillStyle=\"#800000\";\n",
    "  }\n",
    "\n",
    "\n",
    "var mouse = {x: 0, y: 0}\n",
    "canvas.addEventListener('mousemove', function(e) {\n",
    "  mouse.x = e.pageX - this.offsetLeft\n",
    "  mouse.y = e.pageY - this.offsetTop\n",
    "})\n",
    "\n",
    "function getMousePos(canvas, evt) {\n",
    "        var rect = canvas.getBoundingClientRect();\n",
    "        return {\n",
    "          x: evt.x - rect.left,\n",
    "          y: evt.y - rect.top\n",
    "        };\n",
    "      }\n",
    "\n",
    "function getNearestSquare(position) {\n",
    "    var x = position.x;\n",
    "    var y = position.y;\n",
    "\n",
    "    if (x < 0 || y < 0) return null;\n",
    "    x = (Math.floor(x / 20) * 20) + 0.5\n",
    "    y = (Math.floor(y / 20) * 20) + 0.5\n",
    "    return {x: x, y: y};\n",
    "}\n",
    "\n",
    "function containsObject(obj, list) {\n",
    "    var i;\n",
    "    for (i = 0; i < list.length; i++) {\n",
    "        if (list[i].x === obj.x && list[i].y == obj.y) {\n",
    "            return i;\n",
    "        }\n",
    "    }\n",
    "    return -1;\n",
    "}\n",
    "\n",
    "borders = []\n",
    "\n",
    "canvas.onmousedown = ()=>{\n",
    "    var pos = getNearestSquare(getMousePos(canvas, mouse));\n",
    "    if (pos != null) {\n",
    "        index = containsObject(pos, borders)\n",
    "        if (index != -1){\n",
    "            borders.splice(index, 1)\n",
    "            ctx.clearRect(pos.x + 1, pos.y, 19, 19)\n",
    "        }\n",
    "        else{\n",
    "            ctx.fillRect(pos.x+1,pos.y+1,18,18);\n",
    "            borders.push(pos)\n",
    "        }\n",
    "        ctx.fillStyle=\"#000000\";\n",
    "    }\n",
    "}\n",
    "var data = new Promise(resolve=>{\n",
    "  button.onclick = ()=>{\n",
    "    resolve(canvas.toDataURL('image/png'))\n",
    "  }\n",
    "})\n",
    "</script>\n",
    "\"\"\"\n",
    "\n",
    "def draw(filename='drawing.png'):\n",
    "  display(HTML(canvas_html))\n",
    "  data = eval_js(\"data\")\n",
    "  print (data)\n",
    "  binary = b64decode(data.split(',')[1])\n",
    "  with open(filename, 'wb') as f:\n",
    "    f.write(binary)\n",
    "  return len(binary)\n",
    "\n",
    "\n",
    "draw()"
   ]
  },
  {
   "cell_type": "code",
   "execution_count": null,
   "metadata": {
    "id": "D8fS2Z9Xg4fS"
   },
   "outputs": [],
   "source": [
    "def find_points(image_array, pixels):\n",
    "    points = []\n",
    "    for grid_i, i in enumerate(range (10, image_array.shape[0]-10, 20)):\n",
    "        for grid_j, j in enumerate(range (10, image_array.shape[1]-10, 20)):\n",
    "            if np.array_equal(image_array[i][j], pixels):\n",
    "                points.append([grid_i+1, grid_j+1])\n",
    "    return points\n",
    "\n",
    "def draw_grid(fname='/content/drawing.png'):\n",
    "    N = 17\n",
    "    image = PIL.Image.open(fname)\n",
    "    image_array = np.round(np.array(image)/255)\n",
    "\n",
    "    start_x, start_y = find_points(image_array, [0,1,0,1])[0]\n",
    "    end_x, end_y = find_points(image_array, [1, 0, 0, 1])[0]\n",
    "    walls = find_points(image_array, [0, 0, 0, 1])\n",
    "    new_grid = Maze(N, (start_x, start_y), (end_x, end_y))\n",
    "\n",
    "    for i in range(N):\n",
    "        for j in range(N):\n",
    "            if [i, j] in walls:\n",
    "                new_grid.grid[i,j] = 0\n",
    "            else:\n",
    "                new_grid.grid[i, j] = 1\n",
    "\n",
    "    g = new_grid\n",
    "    g.draw_map()\n",
    "    return g\n",
    "\n",
    "g = draw_grid()"
   ]
  },
  {
   "cell_type": "code",
   "execution_count": null,
   "metadata": {
    "id": "O41WKWFvzXk7"
   },
   "outputs": [],
   "source": [
    "pf = pathfinder(g.S, g.F, g, lambda x, y: 1, lambda x, y: 0)\n",
    "g.draw_map(pf.get_path())"
   ]
  },
  {
   "cell_type": "code",
   "execution_count": null,
   "metadata": {
    "id": "WY8URi132WP2"
   },
   "outputs": [],
   "source": [
    "pf.vis.show_gif()"
   ]
  },
  {
   "cell_type": "markdown",
   "metadata": {
    "id": "tprNeqaPIdlW"
   },
   "source": [
    "### 5.1.  "
   ]
  },
  {
   "cell_type": "code",
   "execution_count": null,
   "metadata": {
    "id": "vF3u1cCeIo9H"
   },
   "outputs": [],
   "source": [
    "draw(filename='5.1.png')"
   ]
  },
  {
   "cell_type": "markdown",
   "metadata": {
    "id": "QjwsOf63Ir7V"
   },
   "source": [
    "#### Εισάγετε εδώ την φωτογραφία όπως αυτή προέκυψε από την εκτέλεση και αλληλεπίδραση με το παραπάνω κελί.  \n",
    "\n",
    "\n",
    "#### Εισάγετε εδώ το σχολιασμό σας    \n",
    "\n",
    "\n",
    "\n",
    "(Υπενθύμιση: για τον Hill Climbing δε χρειάζετει να τρέξετε το χάρτη που σχηματίσατε)"
   ]
  },
  {
   "cell_type": "markdown",
   "metadata": {
    "id": "CxyUgnTaIhHa"
   },
   "source": [
    "### 5.2.  "
   ]
  },
  {
   "cell_type": "code",
   "execution_count": null,
   "metadata": {
    "id": "ZT1RxaUJJBok"
   },
   "outputs": [],
   "source": [
    "draw(filename='5.2.png')"
   ]
  },
  {
   "cell_type": "markdown",
   "metadata": {
    "id": "2whQnhT7JGbR"
   },
   "source": [
    "#### Εισάγετε εδώ την φωτογραφία όπως αυτή προέκυψε από την εκτέλεση και αλληλεπίδραση με το παραπάνω κελί.  \n",
    "\n",
    "\n",
    "#### Εισάγετε εδώ το σχολιασμό σας"
   ]
  },
  {
   "cell_type": "code",
   "execution_count": null,
   "metadata": {
    "id": "mSCwE_MZ9Ewa"
   },
   "outputs": [],
   "source": [
    "g = draw_grid()"
   ]
  },
  {
   "cell_type": "code",
   "execution_count": null,
   "metadata": {
    "id": "a-M664IJ9GR-"
   },
   "outputs": [],
   "source": [
    "pf = pathfinder(g.S, g.F, g, c, h)   # change arguments to choose the appropriate pathfinding algorithm and cost/heuristic (if applicable)\n",
    "g.draw_map(pf.get_path())"
   ]
  },
  {
   "cell_type": "code",
   "execution_count": null,
   "metadata": {
    "id": "ZCb5j2Ul_uCo"
   },
   "outputs": [],
   "source": [
    "pf.vis.show_gif()"
   ]
  },
  {
   "cell_type": "markdown",
   "metadata": {
    "id": "rqqmkt3U_9q1"
   },
   "source": [
    "### 5.3."
   ]
  },
  {
   "cell_type": "code",
   "execution_count": null,
   "metadata": {
    "id": "UwqILZmBJjJ-"
   },
   "outputs": [],
   "source": [
    "draw(filename='5.3.png')"
   ]
  },
  {
   "cell_type": "markdown",
   "metadata": {
    "id": "-A3mBvHiJoQq"
   },
   "source": [
    "#### Εισάγετε εδώ την φωτογραφία όπως αυτή προέκυψε από την εκτέλεση και αλληλεπίδραση με το παραπάνω κελί.  \n",
    "\n",
    "\n",
    "#### Εισάγετε εδώ το σχολιασμό σας"
   ]
  },
  {
   "cell_type": "code",
   "execution_count": null,
   "metadata": {
    "id": "apabzO95ACov"
   },
   "outputs": [],
   "source": [
    "g = draw_grid()"
   ]
  },
  {
   "cell_type": "code",
   "execution_count": null,
   "metadata": {
    "id": "V1s5kFo5ADsb"
   },
   "outputs": [],
   "source": [
    "pf = pathfinder(g.S, g.F, g, c, h)   # change arguments to choose the appropriate pathfinding algorithm and cost/heuristic (if applicable)\n",
    "g.draw_map(pf.get_path())"
   ]
  },
  {
   "cell_type": "code",
   "execution_count": null,
   "metadata": {
    "id": "gdTJbRpmAD0X"
   },
   "outputs": [],
   "source": [
    "pf.vis.show_gif()"
   ]
  },
  {
   "cell_type": "markdown",
   "metadata": {
    "id": "x41xMK-VAGHp"
   },
   "source": [
    "### 5.4.  "
   ]
  },
  {
   "cell_type": "code",
   "execution_count": null,
   "metadata": {
    "id": "ndh3zuH4Jjyo"
   },
   "outputs": [],
   "source": [
    "draw(filename='5.4.png')"
   ]
  },
  {
   "cell_type": "markdown",
   "metadata": {
    "id": "UOEI0BCCJqFz"
   },
   "source": [
    "#### Εισάγετε εδώ την φωτογραφία όπως αυτή προέκυψε από την εκτέλεση και αλληλεπίδραση με το παραπάνω κελί.  \n",
    "\n",
    "\n",
    "#### Εισάγετε εδώ το σχολιασμό σας"
   ]
  },
  {
   "cell_type": "code",
   "execution_count": null,
   "metadata": {
    "id": "ixRxVVOwAK8K"
   },
   "outputs": [],
   "source": [
    "g = draw_grid()"
   ]
  },
  {
   "cell_type": "code",
   "execution_count": null,
   "metadata": {
    "id": "3Qrz7mawALUY"
   },
   "outputs": [],
   "source": [
    "pf = pathfinder(g.S, g.F, g, c, h)   # change arguments to choose the appropriate pathfinding algorithm and cost/heuristic (if applicable)\n",
    "g.draw_map(pf.get_path())"
   ]
  },
  {
   "cell_type": "code",
   "execution_count": null,
   "metadata": {
    "id": "5ze26bEaALcm"
   },
   "outputs": [],
   "source": [
    "pf.vis.show_gif()"
   ]
  },
  {
   "cell_type": "markdown",
   "metadata": {
    "id": "KcKfD8ylAOpb"
   },
   "source": [
    "### 5.5  "
   ]
  },
  {
   "cell_type": "code",
   "execution_count": null,
   "metadata": {
    "id": "tzK7U4PfJkIC"
   },
   "outputs": [],
   "source": [
    "draw(filename='5.5.png')"
   ]
  },
  {
   "cell_type": "markdown",
   "metadata": {
    "id": "gudt2lGiJrW0"
   },
   "source": [
    "#### Εισάγετε εδώ την φωτογραφία όπως αυτή προέκυψε από την εκτέλεση και αλληλεπίδραση με το παραπάνω κελί.  \n",
    "\n",
    "\n",
    "#### Εισάγετε εδώ το σχολιασμό σας"
   ]
  },
  {
   "cell_type": "code",
   "execution_count": null,
   "metadata": {
    "id": "zT3sxMjVARhy"
   },
   "outputs": [],
   "source": [
    "g = draw_grid()"
   ]
  },
  {
   "cell_type": "code",
   "execution_count": null,
   "metadata": {
    "id": "CVET3yUWATTB"
   },
   "outputs": [],
   "source": [
    "pf = pathfinder(g.S, g.F, g, c, h)   # change arguments to choose the appropriate pathfinding algorithm and cost/heuristic (if applicable)\n",
    "g.draw_map(pf.get_path())"
   ]
  },
  {
   "cell_type": "code",
   "execution_count": null,
   "metadata": {
    "id": "I6uV-Co-_qj4"
   },
   "outputs": [],
   "source": [
    "pf.vis.show_gif()"
   ]
  }
 ],
 "metadata": {
  "colab": {
   "provenance": []
  },
  "kernelspec": {
   "display_name": "Python 3 (ipykernel)",
   "language": "python",
   "name": "python3"
  },
  "language_info": {
   "codemirror_mode": {
    "name": "ipython",
    "version": 3
   },
   "file_extension": ".py",
   "mimetype": "text/x-python",
   "name": "python",
   "nbconvert_exporter": "python",
   "pygments_lexer": "ipython3",
   "version": "3.7.16"
  }
 },
 "nbformat": 4,
 "nbformat_minor": 1
}
